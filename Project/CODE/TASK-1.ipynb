{
  "nbformat": 4,
  "nbformat_minor": 0,
  "metadata": {
    "colab": {
      "provenance": []
    },
    "kernelspec": {
      "name": "python3",
      "display_name": "Python 3"
    },
    "language_info": {
      "name": "python"
    }
  },
  "cells": [
    {
      "cell_type": "code",
      "execution_count": 1,
      "metadata": {
        "colab": {
          "base_uri": "https://localhost:8080/"
        },
        "id": "-regrhg_0uOz",
        "outputId": "f8769b67-7cdf-4d8b-a2d6-1b02d94bd7a0"
      },
      "outputs": [
        {
          "output_type": "stream",
          "name": "stdout",
          "text": [
            "Validation Accuracy: 0.73\n"
          ]
        }
      ],
      "source": [
        "import pandas as pd\n",
        "from sklearn.ensemble import AdaBoostClassifier\n",
        "from sklearn.model_selection import train_test_split\n",
        "from sklearn.metrics import accuracy_score\n",
        "from sklearn.preprocessing import LabelEncoder\n",
        "\n",
        "# Step 1: Read and preprocess training data\n",
        "train_data = pd.read_excel('01 Train Data.xlsx')\n",
        "\n",
        "# Drop unnecessary columns and handle missing values\n",
        "train_data.drop(['Price Tier', 'Group'], axis=1, inplace=True)\n",
        "train_data.drop_duplicates(subset='Email ID', keep='first', inplace=True)\n",
        "\n",
        "# Concatenate columns and drop originals\n",
        "train_data['Source of Event Information'] = train_data['How did you come to know about this event?'].fillna('') + ' ' + train_data['Specify in \"Others\" (how did you come to know about this event)'].fillna('')\n",
        "train_data.drop(['How did you come to know about this event?', 'Specify in \"Others\" (how did you come to know about this event)'], axis=1, inplace=True)\n",
        "\n",
        "# Encode categorical variables\n",
        "encoder = LabelEncoder()\n",
        "train_data['Placement Status'] = encoder.fit_transform(train_data['Placement Status'].fillna('Not Placed'))\n",
        "train_data['College Name'] = encoder.fit_transform(train_data['College Name'].fillna('Unknown'))\n",
        "\n",
        "# Prepare features and target variable\n",
        "X_train = train_data[['College Name', 'CGPA', 'Speaking Skills', 'ML Knowledge']]\n",
        "y_train = train_data['Placement Status']\n",
        "\n",
        "# Step 2: Read and preprocess test data\n",
        "test_data = pd.read_excel('02 Test Data.xlsx')\n",
        "\n",
        "# Drop unnecessary columns and handle missing values\n",
        "test_data.drop(['Price Tier', 'Group', 'Quantity', 'Attendee #', 'Order Type', 'Currency', 'Total Paid', 'Fees Paid',\n",
        "                'Eventbrite Fees', 'Eventbrite Payment Processing', 'Attendee Status'], axis=1, inplace=True)\n",
        "test_data.drop_duplicates(subset='Email ID', keep='first', inplace=True)\n",
        "\n",
        "# Concatenate columns and drop originals\n",
        "test_data['Source of Event Information'] = test_data['How did you come to know about this event?'].fillna('') + ' ' + test_data['Specify in \"Others\" (how did you come to know about this event)'].fillna('')\n",
        "test_data.drop(['How did you come to know about this event?', 'Specify in \"Others\" (how did you come to know about this event)'], axis=1, inplace=True)\n",
        "\n",
        "# Encode categorical variables\n",
        "test_data['College Name'] = encoder.transform(test_data['College Name'].fillna('Unknown'))\n",
        "\n",
        "# Prepare test features\n",
        "X_test = test_data[['College Name', 'CGPA', 'Speaking Skills', 'ML Knowledge']]\n",
        "\n",
        "# Step 3: Train the AdaBoost model\n",
        "model = AdaBoostClassifier(n_estimators=100, random_state=0)\n",
        "model.fit(X_train, y_train)\n",
        "\n",
        "# Step 4: Predict on the test data\n",
        "y_test_pred = model.predict(X_test)\n",
        "\n",
        "# Step 5: Save predicted results to the test data\n",
        "test_data['Predicted Placement Status'] = y_test_pred\n",
        "\n",
        "# Decode predicted placement status\n",
        "pred_placement_status_decode_mapping = {\n",
        "    0: 'Not Placed',\n",
        "    1: 'Placed'\n",
        "}\n",
        "test_data['Predicted Placement Status'] = test_data['Predicted Placement Status'].map(pred_placement_status_decode_mapping).fillna(' ')\n",
        "\n",
        "# Step 6: Save final predicted data\n",
        "final_predicted_data = test_data[['First Name', 'Email ID', 'Ticket Type', 'College Name', 'Designation', 'Year of Graduation',\n",
        "                                  'CGPA', 'Speaking Skills', 'ML Knowledge', 'Predicted Placement Status',\n",
        "                                  'Source of Event Information']]\n",
        "\n",
        "# Save to Excel and CSV\n",
        "final_predicted_data.to_excel('Final Placement Predicted Data.xlsx', index=False)\n",
        "final_predicted_data.to_csv('Final Placement Predicted Data.csv', index=False)\n",
        "\n",
        "# Optional: Compute accuracy on validation set if needed\n",
        "# Split data into training and validation sets\n",
        "X_train_split, X_val_split, y_train_split, y_val_split = train_test_split(X_train, y_train, test_size=0.2, random_state=0)\n",
        "\n",
        "# Train the model\n",
        "model.fit(X_train_split, y_train_split)\n",
        "\n",
        "# Predict on the validation set\n",
        "y_val_pred = model.predict(X_val_split)\n",
        "\n",
        "# Compute accuracy\n",
        "accuracy = accuracy_score(y_val_split, y_val_pred)\n",
        "print(f\"Validation Accuracy: {accuracy:.2f}\")\n"
      ]
    }
  ]
}